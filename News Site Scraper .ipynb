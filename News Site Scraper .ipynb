{
 "cells": [
  {
   "cell_type": "code",
   "execution_count": 1,
   "metadata": {},
   "outputs": [
    {
     "name": "stdout",
     "output_type": "stream",
     "text": [
      "50\n"
     ]
    }
   ],
   "source": [
    "#libraries \n",
    "import newspaper \n",
    "import json\n",
    "\n",
    "#newspaper crawler\n",
    "cnn_newspaper = newspaper.build('https://www.cnn.com/')\n",
    "\n",
    "#data array\n",
    "data_array = []\n",
    "\n",
    "count = 0 \n",
    "\n",
    "#for loopfor article extraction, download and parsing followed by 50 count loop\n",
    "for article in cnn_newspaper.articles:\n",
    "    if count == 50:\n",
    "        break\n",
    "    try:\n",
    "        article.download()\n",
    "        article.parse()\n",
    "        \n",
    "    except:\n",
    "        continue\n",
    "# json append array for later dump     \n",
    "    data_array.append([('DATE: ', article.publish_date), ('TITLE:', article.title), ('TEXT', article.text), ('URL', article.url) ])\n",
    "    \n",
    "    count += 1 \n",
    "with open('CNN_Crawler.json', 'w') as f:\n",
    "    json.dump(data_array, f, default=str, indent=4)\n",
    "#^ dumping the data_array in to a JSON file    \n",
    "\n",
    "print(count) \n",
    " \n",
    "    \n",
    "\n",
    "\n",
    "    \n",
    "                    \n",
    "\n",
    "                    \n",
    "                    "
   ]
  },
  {
   "cell_type": "code",
   "execution_count": null,
   "metadata": {
    "collapsed": true
   },
   "outputs": [],
   "source": []
  }
 ],
 "metadata": {
  "kernelspec": {
   "display_name": "Python 3",
   "language": "python",
   "name": "python3"
  },
  "language_info": {
   "codemirror_mode": {
    "name": "ipython",
    "version": 3
   },
   "file_extension": ".py",
   "mimetype": "text/x-python",
   "name": "python",
   "nbconvert_exporter": "python",
   "pygments_lexer": "ipython3",
   "version": "3.7.6"
  }
 },
 "nbformat": 4,
 "nbformat_minor": 2
}
