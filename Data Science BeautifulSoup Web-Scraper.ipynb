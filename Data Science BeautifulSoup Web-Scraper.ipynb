{
 "cells": [
  {
   "cell_type": "code",
   "execution_count": 29,
   "metadata": {
    "scrolled": true
   },
   "outputs": [
    {
     "name": "stdout",
     "output_type": "stream",
     "text": [
      "https://www.strangelist.com/wp-content/uploads/2017/04/web-1.jpg\n",
      "https://images.guff.com/gallery/image/stephen-hawking-160365\n",
      "https://i1.wp.com/www.thejpcf.com/images/contentimages/pj.jpg?resize=960%2C486\n",
      "https://i1.wp.com/www.ecestaticos.com/imagestatic/clipping/d86/750/d8675057d652bb4265b0ca69c733b22b/el-ultimo-teorema-de-fermat-un-enigma-sin-solucion-durante-358-anos.jpg?resize=996%2C560&ssl=1\n",
      "https://i2.wp.com/www.thefamouspeople.com/profiles/images/og-paul-allen-4042.jpg?resize=700%2C400\n",
      "https://i1.wp.com/i.huffpost.com/gen/4900096/images/o-MAGNUS-CARLSEN-facebook.jpg?resize=2000%2C1000\n",
      "https://i0.wp.com/oslofreedomforum.com/uploads/listings/_splash/Garry-Kasparov-speaker-2-web.jpg?resize=1300%2C600&ssl=1\n",
      "https://i0.wp.com/miro.medium.com/max/803/0*isxtof_VCf5h4nYN.jpg?ssl=1\n",
      "https://i2.wp.com/photos.smugmug.com/AAS-227-Jan-2016/Prize-Invited-Talks/Warner-Prize-Christopher-Hirat/i-W3PhHL7/0/8983bda3/L/_V8A0117-L.jpg?resize=800%2C534&ssl=1\n",
      "https://i1.wp.com/i.ytimg.com/vi/xKWm-zPHnrw/maxresdefault.jpg?ssl=1\n",
      "https://i0.wp.com/i.telegraph.co.uk/multimedia/archive/02310/maths1_2310282b.jpg?resize=620%2C388\n",
      "https://i2.wp.com/www.strangelist.com/wp-content/uploads/2017/03/most-independent-films-e1488858894540.jpg?resize=520%2C245&ssl=1\n",
      "https://i0.wp.com/www.strangelist.com/wp-content/uploads/2017/03/strangest-television-shows.jpg?resize=500%2C245&ssl=1\n",
      "https://i1.wp.com/www.strangelist.com/wp-content/uploads/2017/03/tupac-strange-death.jpg?resize=520%2C245&ssl=1\n",
      "https://secure.gravatar.com/avatar/ca737eb09ff8392fe81260ff810b41e4?s=48&d=mm&r=g\n",
      "https://secure.gravatar.com/avatar/190386e8fca264fe23193cdc840680b6?s=48&d=mm&r=g\n",
      "https://www.strangelist.com/wp-content/plugins/easy-facebook-likebox/public/assets/images/loader.gif\n",
      "https://i0.wp.com/www.strangelist.com/wp-content/uploads/2016/11/worlds-most-dangerous-dogs-top-10.jpg?fit=240%2C210&ssl=1\n",
      "https://i0.wp.com/www.strangelist.com/wp-content/uploads/2016/11/most-dangerous-jobs-in-the-world-top-10.jpg?fit=658%2C370&ssl=1\n",
      "https://i1.wp.com/www.strangelist.com/wp-content/uploads/2016/11/worlds-most-dangerous-animals-top-10.jpg?fit=477%2C272&ssl=1\n",
      "https://i2.wp.com/www.strangelist.com/wp-content/uploads/2016/11/worlds-most-dangerous-cities-aleppo.jpg?fit=609%2C343&ssl=1\n"
     ]
    }
   ],
   "source": [
    "from bs4 import BeautifulSoup\n",
    "import requests\n",
    "\n",
    "url = 'https://www.strangelist.com/top-10-smartest-people-2018/'\n",
    "# get contents from url\n",
    "content = requests.get(url).content\n",
    "# get soup\n",
    "soup = BeautifulSoup(content,'lxml') # choose lxml parser\n",
    "# find the tag : <img ... >\n",
    "image_tags = soup.findAll('img')\n",
    "# print out image urls\n",
    "for image_tag in image_tags:\n",
    "    print(image_tag.get('src'))"
   ]
  },
  {
   "cell_type": "code",
   "execution_count": null,
   "metadata": {},
   "outputs": [],
   "source": []
  },
  {
   "cell_type": "code",
   "execution_count": 34,
   "metadata": {},
   "outputs": [],
   "source": []
  },
  {
   "cell_type": "code",
   "execution_count": null,
   "metadata": {},
   "outputs": [],
   "source": []
  },
  {
   "cell_type": "code",
   "execution_count": 21,
   "metadata": {},
   "outputs": [],
   "source": []
  },
  {
   "cell_type": "code",
   "execution_count": 26,
   "metadata": {},
   "outputs": [],
   "source": []
  },
  {
   "cell_type": "code",
   "execution_count": null,
   "metadata": {},
   "outputs": [],
   "source": []
  },
  {
   "cell_type": "code",
   "execution_count": null,
   "metadata": {},
   "outputs": [],
   "source": []
  },
  {
   "cell_type": "code",
   "execution_count": null,
   "metadata": {},
   "outputs": [],
   "source": []
  },
  {
   "cell_type": "code",
   "execution_count": null,
   "metadata": {},
   "outputs": [],
   "source": []
  },
  {
   "cell_type": "code",
   "execution_count": null,
   "metadata": {},
   "outputs": [],
   "source": []
  },
  {
   "cell_type": "code",
   "execution_count": null,
   "metadata": {},
   "outputs": [],
   "source": []
  },
  {
   "cell_type": "code",
   "execution_count": null,
   "metadata": {},
   "outputs": [],
   "source": []
  },
  {
   "cell_type": "code",
   "execution_count": null,
   "metadata": {},
   "outputs": [],
   "source": []
  },
  {
   "cell_type": "code",
   "execution_count": null,
   "metadata": {},
   "outputs": [],
   "source": []
  }
 ],
 "metadata": {
  "kernelspec": {
   "display_name": "Python 3",
   "language": "python",
   "name": "python3"
  },
  "language_info": {
   "codemirror_mode": {
    "name": "ipython",
    "version": 3
   },
   "file_extension": ".py",
   "mimetype": "text/x-python",
   "name": "python",
   "nbconvert_exporter": "python",
   "pygments_lexer": "ipython3",
   "version": "3.7.6"
  }
 },
 "nbformat": 4,
 "nbformat_minor": 2
}
